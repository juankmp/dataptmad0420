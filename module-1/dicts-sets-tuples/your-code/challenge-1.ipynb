{
 "cells": [
  {
   "cell_type": "markdown",
   "metadata": {},
   "source": [
    "## Challenge 1: Tuples\n",
    "\n",
    "#### Do you know you can create tuples with only one element?\n",
    "\n",
    "**In the cell below, define a variable `tup` with a single element `\"I\"`.**\n",
    "\n",
    "*Hint: you need to add a comma (`,`) after the single element.*"
   ]
  },
  {
   "cell_type": "code",
   "execution_count": 3,
   "metadata": {},
   "outputs": [],
   "source": [
    "# Your code here\n",
    "tup = (\"I\",)"
   ]
  },
  {
   "cell_type": "markdown",
   "metadata": {},
   "source": [
    "#### Print the type of `tup`. \n",
    "\n",
    "Make sure its type is correct (i.e. *tuple* instead of *str*)."
   ]
  },
  {
   "cell_type": "code",
   "execution_count": 4,
   "metadata": {},
   "outputs": [
    {
     "data": {
      "text/plain": [
       "tuple"
      ]
     },
     "execution_count": 4,
     "metadata": {},
     "output_type": "execute_result"
    }
   ],
   "source": [
    "# Your code here\n",
    "type(tup)"
   ]
  },
  {
   "cell_type": "markdown",
   "metadata": {},
   "source": [
    "#### Now try to append the following elements to `tup`. \n",
    "\n",
    "Are you able to do it? Explain.\n",
    "\n",
    "```\n",
    "\"r\", \"o\", \"n\", \"h\", \"a\", \"c\", \"k',\n",
    "```"
   ]
  },
  {
   "cell_type": "code",
   "execution_count": 13,
   "metadata": {},
   "outputs": [
    {
     "name": "stdout",
     "output_type": "stream",
     "text": [
      "[('I',), 'r', 'o', 'n', 'h', 'a', 'c', 'k']\n",
      "[('I',), 'r', 'o', 'n', 'h', 'a', 'c', 'k']\n"
     ]
    }
   ],
   "source": [
    "# Your code here\n",
    "#list1 = [\"r\", \"o\", \"n\", \"h\", \"a\", \"c\", \"k\"]\n",
    "#for i in list1:\n",
    "    #tup.append(i)\n",
    "#print(tup)\n",
    "\n",
    "# Your explanation here\n",
    "\n",
    "#Tuples are inmutable, it's not possible to change or update the values\n",
    "#the error is: AttributeError: 'tuple' object has no attribute 'append'\n",
    "\n",
    "#What we can do it's actually create a new tuple (tup1) as the following example, or to create a tuple list (tup3):\n",
    "tup1 = (\"r\", \"o\", \"n\", \"h\", \"a\", \"c\", \"k\")\n",
    "\n",
    "tup3 = [(tup),]\n",
    "for i in tup1:\n",
    "    tup3.append(i)\n",
    "print (tup3)\n",
    "\n",
    "print(tup3)"
   ]
  },
  {
   "cell_type": "markdown",
   "metadata": {},
   "source": [
    "#### How about re-assign a new value to an existing tuple?\n",
    "\n",
    "Re-assign the following elements to `tup`. Are you able to do it? Explain.\n",
    "\n",
    "```\n",
    "\"I\", \"r\", \"o\", \"n\", \"h\", \"a\", \"c\", \"k\"\n",
    "```"
   ]
  },
  {
   "cell_type": "code",
   "execution_count": 15,
   "metadata": {},
   "outputs": [
    {
     "name": "stdout",
     "output_type": "stream",
     "text": [
      "('I', 'r', 'o', 'n', 'h', 'a', 'c', 'k')\n"
     ]
    }
   ],
   "source": [
    "# Your code here\n",
    "tup3[0]= 'I'\n",
    "tup = tuple(tup3)\n",
    "print(tup)\n",
    "\n",
    "# Your explanation here\n",
    "\n",
    "#Yes, its possible to change it because list are mutable and the tuple is part of the list itself\n"
   ]
  },
  {
   "cell_type": "markdown",
   "metadata": {},
   "source": [
    "#### Split `tup` into `tup1` and `tup2` with 4 elements in each. \n",
    "\n",
    "`tup1` should be `(\"I\", \"r\", \"o\", \"n\")` and `tup2` should be `(\"h\", \"a\", \"c\", \"k\")`.\n",
    "\n",
    "*Hint: use positive index numbers for `tup1` assignment and use negative index numbers for `tup2` assignment. Positive index numbers count from the beginning whereas negative index numbers count from the end of the sequence.*\n",
    "\n",
    "Also print `tup1` and `tup2`."
   ]
  },
  {
   "cell_type": "code",
   "execution_count": 16,
   "metadata": {},
   "outputs": [
    {
     "name": "stdout",
     "output_type": "stream",
     "text": [
      "4\n",
      "('I', 'r', 'o', 'n')\n",
      "('h', 'a', 'c', 'k')\n"
     ]
    }
   ],
   "source": [
    "# Your code here\n",
    "# Using Naive Method \n",
    "\n",
    "c = \"n\"\n",
    "res = 0\n",
    "for i in range(0, len(tup)): \n",
    "    if tup[i] == c: \n",
    "        res = i + 1\n",
    "        break\n",
    "print(res)\n",
    "\n",
    "# this for is built to know the position of \"n\" in the tup\n",
    "\n",
    "tup1 = []\n",
    "tup2 = []\n",
    "\n",
    "# then to split the tup in 2 tuples we need to append the list and then change them to tuples, as folllows:\n",
    "\n",
    "j= 0\n",
    "for i in tup:\n",
    "    j = j + 1\n",
    "    if j < res + 1:\n",
    "        tup1.append(i)\n",
    "    else:\n",
    "        tup2.append(i)\n",
    "\n",
    "tup1 = tuple(tup1)\n",
    "tup2 = tuple(tup2)\n",
    "\n",
    "print(tup1)\n",
    "print(tup2)\n",
    "    \n"
   ]
  },
  {
   "cell_type": "markdown",
   "metadata": {},
   "source": [
    "#### Add `tup1` and `tup2` into `tup3` using the `+` operator.\n",
    "\n",
    "Then print `tup3` and check if `tup3` equals to `tup`."
   ]
  },
  {
   "cell_type": "code",
   "execution_count": 17,
   "metadata": {},
   "outputs": [
    {
     "name": "stdout",
     "output_type": "stream",
     "text": [
      "('I', 'r', 'o', 'n', 'h', 'a', 'c', 'k')\n"
     ]
    }
   ],
   "source": [
    "# Your code here\n",
    "\n",
    "tup3 = tup1 + tup2\n",
    "print(tup3)\n"
   ]
  },
  {
   "cell_type": "markdown",
   "metadata": {},
   "source": [
    "#### Count the number of elements in `tup1` and `tup2`. Then add the two counts together and check if the sum is the same as the number of elements in `tup3`."
   ]
  },
  {
   "cell_type": "code",
   "execution_count": null,
   "metadata": {},
   "outputs": [],
   "source": [
    "# Your code here\n",
    "k = 0\n",
    "for i in tup1:\n",
    "    k = k +1\n",
    "\n",
    "l= 0\n",
    "for i in tup2:\n",
    "    l = l +1\n",
    "\n",
    "value = k + l\n",
    "print(value)\n",
    "\n",
    "#YES it's the same.\n"
   ]
  },
  {
   "cell_type": "markdown",
   "metadata": {},
   "source": [
    "#### What is the index number of `\"h\"` in `tup3`?"
   ]
  },
  {
   "cell_type": "code",
   "execution_count": 18,
   "metadata": {},
   "outputs": [
    {
     "name": "stdout",
     "output_type": "stream",
     "text": [
      "4\n"
     ]
    }
   ],
   "source": [
    "# Your code here\n",
    "#variable is the word we are looking for:\n",
    "variable = \"h\"\n",
    "\n",
    "index_tup3 = tup3.index(variable)\n",
    "print(index_tup3)\n",
    "\n",
    "# the index() method finds the given element in a list and returns its position.\n"
   ]
  },
  {
   "cell_type": "markdown",
   "metadata": {},
   "source": [
    "#### Now, use a FOR loop to check whether each letter in the following list is present in `tup3`:\n",
    "\n",
    "```\n",
    "letters = [\"a\", \"b\", \"c\", \"d\", \"e\"]\n",
    "```\n",
    "\n",
    "For each letter you check, print `True` if it is present in `tup3` otherwise print `False`.\n",
    "\n",
    "*Hint: you only need to loop `letters`. You don't need to loop `tup3` because there is a Python operator `in` you can use. See [reference](https://stackoverflow.com/questions/17920147/how-to-check-if-a-tuple-contains-an-element-in-python).*"
   ]
  },
  {
   "cell_type": "code",
   "execution_count": 22,
   "metadata": {},
   "outputs": [
    {
     "name": "stdout",
     "output_type": "stream",
     "text": [
      "('I', 'r', 'o', 'n', 'h', 'a', 'c', 'k')\n",
      "True\n",
      "False\n",
      "True\n",
      "False\n",
      "False\n"
     ]
    },
    {
     "data": {
      "text/plain": [
       "('I', 'r', 'o', 'n', 'h', 'a', 'c', 'k')"
      ]
     },
     "execution_count": 22,
     "metadata": {},
     "output_type": "execute_result"
    }
   ],
   "source": [
    "# Your code here\n",
    "letters = [\"a\", \"b\", \"c\", \"d\", \"e\"]\n",
    "print(tup3)\n",
    "\n",
    "for i in letters:\n",
    "    if i in tup3:\n",
    "        print(\"True\")\n",
    "    else:\n",
    "        print(\"False\")\n",
    "\n",
    "tup3"
   ]
  },
  {
   "cell_type": "markdown",
   "metadata": {},
   "source": [
    "#### How many times does each letter in `letters` appear in `tup3`?\n",
    "\n",
    "Print out the number of occurrence of each letter."
   ]
  },
  {
   "cell_type": "code",
   "execution_count": 65,
   "metadata": {},
   "outputs": [
    {
     "name": "stdout",
     "output_type": "stream",
     "text": [
      "Letter a is: 1 Times in ('I', 'r', 'o', 'n', 'h', 'a', 'c', 'k')\n",
      "Letter b is: 0 Times in ('I', 'r', 'o', 'n', 'h', 'a', 'c', 'k')\n",
      "Letter c is: 1 Times in ('I', 'r', 'o', 'n', 'h', 'a', 'c', 'k')\n",
      "Letter d is: 0 Times in ('I', 'r', 'o', 'n', 'h', 'a', 'c', 'k')\n",
      "Letter e is: 0 Times in ('I', 'r', 'o', 'n', 'h', 'a', 'c', 'k')\n",
      "Another input\n",
      "Letter a is: 3 Times in ['J', 'u', 'a', 'n', ' ', 'C', 'a', 'm', 'i', 'l', 'o', ' ', 'M', 'u', 'ñ', 'o', 'z', ' ', 'P', 'e', 'r', 'e', 'a']\n",
      "Letter e is: 2 Times in ['J', 'u', 'a', 'n', ' ', 'C', 'a', 'm', 'i', 'l', 'o', ' ', 'M', 'u', 'ñ', 'o', 'z', ' ', 'P', 'e', 'r', 'e', 'a']\n",
      "Letter i is: 1 Times in ['J', 'u', 'a', 'n', ' ', 'C', 'a', 'm', 'i', 'l', 'o', ' ', 'M', 'u', 'ñ', 'o', 'z', ' ', 'P', 'e', 'r', 'e', 'a']\n",
      "Letter o is: 2 Times in ['J', 'u', 'a', 'n', ' ', 'C', 'a', 'm', 'i', 'l', 'o', ' ', 'M', 'u', 'ñ', 'o', 'z', ' ', 'P', 'e', 'r', 'e', 'a']\n",
      "Letter u is: 2 Times in ['J', 'u', 'a', 'n', ' ', 'C', 'a', 'm', 'i', 'l', 'o', ' ', 'M', 'u', 'ñ', 'o', 'z', ' ', 'P', 'e', 'r', 'e', 'a']\n"
     ]
    }
   ],
   "source": [
    "# Your code here\n",
    "name = 'Juan Camilo Muñoz Perea'\n",
    "vowels = [\"a\",\"e\",\"i\",\"o\",\"u\"]\n",
    "name2 = [i for i in name]\n",
    "\n",
    "\n",
    "\n",
    "def lettersin(letters_analise,list_evaluate):\n",
    "    for i in letters_analise:\n",
    "        count = 0\n",
    "        for j in list_evaluate:\n",
    "            if i == j:\n",
    "                count = count+1\n",
    "            else:\n",
    "                count = count + 0\n",
    "        print(f'Letter {i} is: {count} Times in {list_evaluate}')    \n",
    "\n",
    "lettersin(letters,tup3)\n",
    "print(\"Another input\")\n",
    "lettersin(vowels,name2)\n"
   ]
  }
 ],
 "metadata": {
  "kernelspec": {
   "display_name": "Python 3",
   "language": "python",
   "name": "python3"
  },
  "language_info": {
   "codemirror_mode": {
    "name": "ipython",
    "version": 3
   },
   "file_extension": ".py",
   "mimetype": "text/x-python",
   "name": "python",
   "nbconvert_exporter": "python",
   "pygments_lexer": "ipython3",
   "version": "3.7.7"
  }
 },
 "nbformat": 4,
 "nbformat_minor": 2
}
