{
 "cells": [
  {
   "cell_type": "markdown",
   "metadata": {},
   "source": [
    "# Introduction to NumPy\n",
    "\n",
    "\n",
    "#### 1. Import NumPy under the name np."
   ]
  },
  {
   "cell_type": "code",
   "execution_count": 1,
   "metadata": {},
   "outputs": [],
   "source": [
    "# your code here\n",
    "import numpy as np"
   ]
  },
  {
   "cell_type": "markdown",
   "metadata": {},
   "source": [
    "#### 2. Print your NumPy version."
   ]
  },
  {
   "cell_type": "code",
   "execution_count": 2,
   "metadata": {},
   "outputs": [
    {
     "data": {
      "text/plain": [
       "'1.18.1'"
      ]
     },
     "execution_count": 2,
     "metadata": {},
     "output_type": "execute_result"
    }
   ],
   "source": [
    "# your code here\n",
    "np.version.version"
   ]
  },
  {
   "cell_type": "markdown",
   "metadata": {},
   "source": [
    "#### 3. Generate a 2x3x5 3-dimensional array with random values. Assign the array to variable *a*.\n",
    "**Challenge**: there are at least three easy ways that use numpy to generate random arrays. How many ways can you find?"
   ]
  },
  {
   "cell_type": "code",
   "execution_count": 61,
   "metadata": {},
   "outputs": [
    {
     "name": "stdout",
     "output_type": "stream",
     "text": [
      "[[[0.16200947 0.32678589 0.37737722 0.38544141 0.22164532]\n",
      "  [0.20094691 0.71953877 0.85882842 0.17515157 0.83233367]\n",
      "  [0.61210126 0.21205259 0.4387205  0.69127042 0.60735831]]\n",
      "\n",
      " [[0.44310272 0.12536778 0.59850804 0.50391944 0.27833525]\n",
      "  [0.52037085 0.9065045  0.0522971  0.41024422 0.42227668]\n",
      "  [0.47636112 0.85412024 0.80035748 0.98212291 0.37744969]]]\n"
     ]
    }
   ],
   "source": [
    "# Method 1\n",
    "a = np.random.random((2,3,5))\n",
    "print(a)"
   ]
  },
  {
   "cell_type": "code",
   "execution_count": 62,
   "metadata": {},
   "outputs": [
    {
     "name": "stdout",
     "output_type": "stream",
     "text": [
      "[[[0.50352289 0.88707335 0.62252392 0.36028537 0.70980602]\n",
      "  [0.23606727 0.56691126 0.16786383 0.29072155 0.73325306]\n",
      "  [0.04076855 0.444809   0.38195468 0.14131819 0.95071971]]\n",
      "\n",
      " [[0.32674546 0.6324773  0.12438934 0.9140036  0.54437338]\n",
      "  [0.01339774 0.32648196 0.82546694 0.48077896 0.15241742]\n",
      "  [0.8410231  0.24836618 0.85622941 0.91495181 0.23111543]]]\n"
     ]
    }
   ],
   "source": [
    "# Method 2\n",
    "\n",
    "a_2= np.random.rand(2,3,5)\n",
    "print(b)\n",
    "\n"
   ]
  },
  {
   "cell_type": "code",
   "execution_count": 63,
   "metadata": {},
   "outputs": [
    {
     "name": "stdout",
     "output_type": "stream",
     "text": [
      "[[[73 53 27 35 20]\n",
      "  [83 67 74 49 66]\n",
      "  [72 97 82 53 23]]\n",
      "\n",
      " [[39 80 42 69 37]\n",
      "  [38 27 81 60 52]\n",
      "  [41 65 57 56 86]]]\n"
     ]
    }
   ],
   "source": [
    "# Method 3\n",
    "\n",
    "a_3= np.random.randint(0,100,30).reshape(2,3,5)\n",
    "print(c)\n"
   ]
  },
  {
   "cell_type": "markdown",
   "metadata": {},
   "source": [
    "#### 4. Print *a*.\n"
   ]
  },
  {
   "cell_type": "code",
   "execution_count": 66,
   "metadata": {},
   "outputs": [
    {
     "name": "stdout",
     "output_type": "stream",
     "text": [
      "[[[0.16200947 0.32678589 0.37737722 0.38544141 0.22164532]\n",
      "  [0.20094691 0.71953877 0.85882842 0.17515157 0.83233367]\n",
      "  [0.61210126 0.21205259 0.4387205  0.69127042 0.60735831]]\n",
      "\n",
      " [[0.44310272 0.12536778 0.59850804 0.50391944 0.27833525]\n",
      "  [0.52037085 0.9065045  0.0522971  0.41024422 0.42227668]\n",
      "  [0.47636112 0.85412024 0.80035748 0.98212291 0.37744969]]]\n"
     ]
    }
   ],
   "source": [
    "# your code here\n",
    "print(a)"
   ]
  },
  {
   "cell_type": "markdown",
   "metadata": {},
   "source": [
    "#### 5. Create a 5x2x3 3-dimensional array with all values equaling 1. Assign the array to variable *b*."
   ]
  },
  {
   "cell_type": "code",
   "execution_count": 67,
   "metadata": {},
   "outputs": [],
   "source": [
    "# your code here\n",
    "\n",
    "b = np.ones((5,2,3))"
   ]
  },
  {
   "cell_type": "markdown",
   "metadata": {},
   "source": [
    "#### 6. Print *b*.\n"
   ]
  },
  {
   "cell_type": "code",
   "execution_count": 68,
   "metadata": {},
   "outputs": [
    {
     "name": "stdout",
     "output_type": "stream",
     "text": [
      "[[[1. 1. 1.]\n",
      "  [1. 1. 1.]]\n",
      "\n",
      " [[1. 1. 1.]\n",
      "  [1. 1. 1.]]\n",
      "\n",
      " [[1. 1. 1.]\n",
      "  [1. 1. 1.]]\n",
      "\n",
      " [[1. 1. 1.]\n",
      "  [1. 1. 1.]]\n",
      "\n",
      " [[1. 1. 1.]\n",
      "  [1. 1. 1.]]]\n"
     ]
    }
   ],
   "source": [
    "# your code here\n",
    "print(b)"
   ]
  },
  {
   "cell_type": "markdown",
   "metadata": {},
   "source": [
    "#### 7. Do *a* and *b* have the same size? How do you prove that in Python code?"
   ]
  },
  {
   "cell_type": "code",
   "execution_count": 69,
   "metadata": {},
   "outputs": [
    {
     "name": "stdout",
     "output_type": "stream",
     "text": [
      "They have the same size\n"
     ]
    }
   ],
   "source": [
    "# your code here\n",
    "if ((a.size)) == int((b.size)):\n",
    "    print(\"They have the same size\")\n",
    "else:\n",
    "    print(\"They have different size\")"
   ]
  },
  {
   "cell_type": "markdown",
   "metadata": {},
   "source": [
    "#### 8. Are you able to add *a* and *b*? Why or why not?\n"
   ]
  },
  {
   "cell_type": "code",
   "execution_count": 70,
   "metadata": {},
   "outputs": [
    {
     "name": "stdout",
     "output_type": "stream",
     "text": [
      "Dimmensions are not the same (shape) so its not possible to sum the arrays, so this print is an exception because is an error\n"
     ]
    }
   ],
   "source": [
    "# your answer here\n",
    "\n",
    "try:\n",
    "    sum_ab = a + b\n",
    "    print(sum_ab)\n",
    "except:\n",
    "    print(\"Dimmensions are not the same (shape) so its not possible to sum the arrays, so this print is an exception because is an error\")\n"
   ]
  },
  {
   "cell_type": "markdown",
   "metadata": {},
   "source": [
    "#### 9. Transpose *b* so that it has the same structure of *a* (i.e. become a 2x3x5 array). Assign the transposed array to variable *c*."
   ]
  },
  {
   "cell_type": "code",
   "execution_count": 71,
   "metadata": {},
   "outputs": [
    {
     "name": "stdout",
     "output_type": "stream",
     "text": [
      "(2, 3, 5)\n"
     ]
    }
   ],
   "source": [
    "# your code here\n",
    "c = np.transpose(b, (1,2,0))\n",
    "print((c.shape))"
   ]
  },
  {
   "cell_type": "markdown",
   "metadata": {},
   "source": [
    "#### 10. Try to add *a* and *c*. Now it should work. Assign the sum to variable *d*. But why does it work now?"
   ]
  },
  {
   "cell_type": "code",
   "execution_count": 77,
   "metadata": {},
   "outputs": [
    {
     "name": "stdout",
     "output_type": "stream",
     "text": [
      "[[[1.16200947 1.32678589 1.37737722 1.38544141 1.22164532]\n",
      "  [1.20094691 1.71953877 1.85882842 1.17515157 1.83233367]\n",
      "  [1.61210126 1.21205259 1.4387205  1.69127042 1.60735831]]\n",
      "\n",
      " [[1.44310272 1.12536778 1.59850804 1.50391944 1.27833525]\n",
      "  [1.52037085 1.9065045  1.0522971  1.41024422 1.42227668]\n",
      "  [1.47636112 1.85412024 1.80035748 1.98212291 1.37744969]]]\n"
     ]
    }
   ],
   "source": [
    "# your code/answer here\n",
    "d = a + c\n",
    "print(d)"
   ]
  },
  {
   "cell_type": "markdown",
   "metadata": {},
   "source": [
    "#### 11. Print *a* and *d*. Notice the difference and relation of the two array in terms of the values? Explain."
   ]
  },
  {
   "cell_type": "code",
   "execution_count": 95,
   "metadata": {},
   "outputs": [
    {
     "name": "stdout",
     "output_type": "stream",
     "text": [
      "[[[0.16200947 0.32678589 0.37737722 0.38544141 0.22164532]\n",
      "  [0.20094691 0.71953877 0.85882842 0.17515157 0.83233367]\n",
      "  [0.61210126 0.21205259 0.4387205  0.69127042 0.60735831]]\n",
      "\n",
      " [[0.44310272 0.12536778 0.59850804 0.50391944 0.27833525]\n",
      "  [0.52037085 0.9065045  0.0522971  0.41024422 0.42227668]\n",
      "  [0.47636112 0.85412024 0.80035748 0.98212291 0.37744969]]]\n",
      "[[[1.16200947 1.32678589 1.37737722 1.38544141 1.22164532]\n",
      "  [1.20094691 1.71953877 1.85882842 1.17515157 1.83233367]\n",
      "  [1.61210126 1.21205259 1.4387205  1.69127042 1.60735831]]\n",
      "\n",
      " [[1.44310272 1.12536778 1.59850804 1.50391944 1.27833525]\n",
      "  [1.52037085 1.9065045  1.0522971  1.41024422 1.42227668]\n",
      "  [1.47636112 1.85412024 1.80035748 1.98212291 1.37744969]]]\n"
     ]
    }
   ],
   "source": [
    "# your code/answer here\n",
    "\n",
    "print(a)\n",
    "print(d)"
   ]
  },
  {
   "cell_type": "markdown",
   "metadata": {},
   "source": [
    "#### 12. Multiply *a* and *c*. Assign the result to *e*."
   ]
  },
  {
   "cell_type": "code",
   "execution_count": 91,
   "metadata": {},
   "outputs": [
    {
     "name": "stdout",
     "output_type": "stream",
     "text": [
      "[[[0.16200947 0.32678589 0.37737722 0.38544141 0.22164532]\n",
      "  [0.20094691 0.71953877 0.85882842 0.17515157 0.83233367]\n",
      "  [0.61210126 0.21205259 0.4387205  0.69127042 0.60735831]]\n",
      "\n",
      " [[0.44310272 0.12536778 0.59850804 0.50391944 0.27833525]\n",
      "  [0.52037085 0.9065045  0.0522971  0.41024422 0.42227668]\n",
      "  [0.47636112 0.85412024 0.80035748 0.98212291 0.37744969]]]\n"
     ]
    }
   ],
   "source": [
    "# your code here\n",
    "e = a * c\n",
    "print(e)\n"
   ]
  },
  {
   "cell_type": "markdown",
   "metadata": {},
   "source": [
    "#### 13. Does *e* equal to *a*? Why or why not?\n"
   ]
  },
  {
   "cell_type": "code",
   "execution_count": 93,
   "metadata": {},
   "outputs": [
    {
     "name": "stdout",
     "output_type": "stream",
     "text": [
      "Si son iguales multiplicaste por 1\n"
     ]
    }
   ],
   "source": [
    "# your code/answer here\n",
    "\n",
    "if e.all() == a.all():\n",
    "    print(\"Si son iguales multiplicaste por 1!\")\n",
    "else:\n",
    "    print(\"no son iguales\")\n",
    "\n"
   ]
  },
  {
   "cell_type": "markdown",
   "metadata": {},
   "source": [
    "#### 14. Identify the max, min, and mean values in *d*. Assign those values to variables *d_max*, *d_min* and *d_mean*."
   ]
  },
  {
   "cell_type": "code",
   "execution_count": 94,
   "metadata": {},
   "outputs": [
    {
     "name": "stdout",
     "output_type": "stream",
     "text": [
      "1.4857633237613983\n",
      "1.982122908336597\n",
      "1.0522970994973864\n"
     ]
    }
   ],
   "source": [
    "# your code here\n",
    "\n",
    "d_mean = np.mean(d)\n",
    "d_max = np.max(d)\n",
    "d_min = np.min(d)\n",
    "\n",
    "print(d_mean)\n",
    "print(d_max)\n",
    "print(d_min)"
   ]
  },
  {
   "cell_type": "markdown",
   "metadata": {},
   "source": [
    "#### 15. Now we want to label the values in *d*. First create an empty array *f* with the same shape (i.e. 2x3x5) as *d* using `np.empty`.\n"
   ]
  },
  {
   "cell_type": "code",
   "execution_count": 47,
   "metadata": {},
   "outputs": [
    {
     "name": "stdout",
     "output_type": "stream",
     "text": [
      "[[[0.50352289 0.88707335 0.62252392 0.36028537 0.70980602]\n",
      "  [0.23606727 0.56691126 0.16786383 0.29072155 0.73325306]\n",
      "  [0.04076855 0.444809   0.38195468 0.14131819 0.95071971]]\n",
      "\n",
      " [[0.32674546 0.6324773  0.12438934 0.9140036  0.54437338]\n",
      "  [0.01339774 0.32648196 0.82546694 0.48077896 0.15241742]\n",
      "  [0.8410231  0.24836618 0.85622941 0.91495181 0.23111543]]]\n",
      "[[0.50352289 0.88707335 0.62252392 0.36028537 0.70980602]\n",
      " [0.23606727 0.56691126 0.16786383 0.29072155 0.73325306]\n",
      " [0.04076855 0.444809   0.38195468 0.14131819 0.95071971]]\n",
      "[[0.32674546 0.6324773  0.12438934 0.9140036  0.54437338]\n",
      " [0.01339774 0.32648196 0.82546694 0.48077896 0.15241742]\n",
      " [0.8410231  0.24836618 0.85622941 0.91495181 0.23111543]]\n"
     ]
    }
   ],
   "source": [
    "# your code here\n",
    "f = np.empty((2,3,5),dtype=float)\n",
    "print(f)"
   ]
  },
  {
   "cell_type": "markdown",
   "metadata": {},
   "source": [
    "#### 16. Populate the values in *f*. \n",
    "\n",
    "For each value in *d*, if it's larger than *d_min* but smaller than *d_mean*, assign 25 to the corresponding value in *f*. If a value in *d* is larger than *d_mean* but smaller than *d_max*, assign 75 to the corresponding value in *f*. If a value equals to *d_mean*, assign 50 to the corresponding value in *f*. Assign 0 to the corresponding value(s) in *f* for *d_min* in *d*. Assign 100 to the corresponding value(s) in *f* for *d_max* in *d*. In the end, f should have only the following values: 0, 25, 50, 75, and 100.\n",
    "\n",
    "**Note**: you don't have to use Numpy in this question."
   ]
  },
  {
   "cell_type": "code",
   "execution_count": 105,
   "metadata": {},
   "outputs": [
    {
     "name": "stdout",
     "output_type": "stream",
     "text": [
      "[[[ 25  25  25  25  25]\n",
      "  [ 25  75  75  25  75]\n",
      "  [ 75  25  25  75  75]]\n",
      "\n",
      " [[ 25  25  75  75  25]\n",
      "  [ 75  75   0  25  25]\n",
      "  [ 25  75  75 100  25]]]\n",
      " Esta es la media: 1.4857633237613983\n",
      " Este es el máximo: 1.982122908336597\n",
      " Este es el mínimo: 1.0522970994973864\n"
     ]
    }
   ],
   "source": [
    "# your code here\n",
    "d_mean = np.mean(d)\n",
    "d_max = np.max(d)\n",
    "d_min = np.min(d)\n",
    "\n",
    "result = []\n",
    "for i in d:\n",
    "    for j in i:\n",
    "        for k in j:\n",
    "            if k > d_min and k < d_mean:\n",
    "                result.append(25)\n",
    "            elif k > d_mean and k < d_max:\n",
    "                result.append(75)\n",
    "            elif k == d_mean:\n",
    "                result.append(50)\n",
    "            elif k == d_min:\n",
    "                result.append(0)\n",
    "            elif k == d_max:\n",
    "                result.append(100)\n",
    "\n",
    "f = np.array(result).reshape(2,3,5)\n",
    "print(f)\n",
    "\n",
    "print(f' Esta es la media: {d_mean}')\n",
    "print(f' Este es el máximo: {d_max}')\n",
    "print(f' Este es el mínimo: {d_min}')\n"
   ]
  },
  {
   "cell_type": "markdown",
   "metadata": {},
   "source": [
    "#### 17. Print *d* and *f*. Do you have your expected *f*?\n",
    "For instance, if your *d* is:\n",
    "```python\n",
    "[[[1.85836099, 1.67064465, 1.62576044, 1.40243961, 1.88454931],\n",
    "[1.75354326, 1.69403643, 1.36729252, 1.61415071, 1.12104981],\n",
    "[1.72201435, 1.1862918 , 1.87078449, 1.7726778 , 1.88180042]],\n",
    "[[1.44747908, 1.31673383, 1.02000951, 1.52218947, 1.97066381],\n",
    "[1.79129243, 1.74983003, 1.96028037, 1.85166831, 1.65450881],\n",
    "[1.18068344, 1.9587381 , 1.00656599, 1.93402165, 1.73514584]]]\n",
    "```\n",
    "Your *f* should be:\n",
    "```python\n",
    "[[[ 75.,  75.,  75.,  25.,  75.],\n",
    "[ 75.,  75.,  25.,  25.,  25.],\n",
    "[ 75.,  25.,  75.,  75.,  75.]],\n",
    "[[ 25.,  25.,  25.,  25., 100.],\n",
    "[ 75.,  75.,  75.,  75.,  75.],\n",
    "[ 25.,  75.,   0.,  75.,  75.]]]\n",
    "```"
   ]
  },
  {
   "cell_type": "code",
   "execution_count": 106,
   "metadata": {},
   "outputs": [
    {
     "name": "stdout",
     "output_type": "stream",
     "text": [
      "[[[1.16200947 1.32678589 1.37737722 1.38544141 1.22164532]\n",
      "  [1.20094691 1.71953877 1.85882842 1.17515157 1.83233367]\n",
      "  [1.61210126 1.21205259 1.4387205  1.69127042 1.60735831]]\n",
      "\n",
      " [[1.44310272 1.12536778 1.59850804 1.50391944 1.27833525]\n",
      "  [1.52037085 1.9065045  1.0522971  1.41024422 1.42227668]\n",
      "  [1.47636112 1.85412024 1.80035748 1.98212291 1.37744969]]]\n",
      "[[[ 25  25  25  25  25]\n",
      "  [ 25  75  75  25  75]\n",
      "  [ 75  25  25  75  75]]\n",
      "\n",
      " [[ 25  25  75  75  25]\n",
      "  [ 75  75   0  25  25]\n",
      "  [ 25  75  75 100  25]]]\n"
     ]
    }
   ],
   "source": [
    "# your code here\n",
    "\n",
    "print(d)\n",
    "print(f)"
   ]
  },
  {
   "cell_type": "markdown",
   "metadata": {},
   "source": [
    "#### 18. Bonus question: instead of using numbers (i.e. 0, 25, 50, 75, and 100), use string values  (\"A\", \"B\", \"C\", \"D\", and \"E\") to label the array elements. For the example above, the expected result is:\n",
    "\n",
    "```python\n",
    "[[[ 'D',  'D',  'D',  'B',  'D'],\n",
    "[ 'D',  'D',  'B',  'B',  'B'],\n",
    "[ 'D',  'B',  'D',  'D',  'D']],\n",
    "[[ 'B',  'B',  'B',  'B',  'E'],\n",
    "[ 'D',  'D',  'D',  'D',  'D'],\n",
    "[ 'B',  'D',   'A',  'D', 'D']]]\n",
    "```\n",
    "**Note**: you don't have to use Numpy in this question."
   ]
  },
  {
   "cell_type": "code",
   "execution_count": 109,
   "metadata": {},
   "outputs": [
    {
     "name": "stdout",
     "output_type": "stream",
     "text": [
      "[25, 25, 25, 25, 25, 25, 75, 75, 25, 75, 75, 25, 25, 75, 75, 25, 25, 75, 75, 25, 75, 75, 0, 25, 25, 25, 75, 75, 100, 25]\n",
      "[[['B' 'B' 'B' 'B' 'B']\n",
      "  ['B' 'D' 'D' 'B' 'D']\n",
      "  ['D' 'B' 'B' 'D' 'D']]\n",
      "\n",
      " [['B' 'B' 'D' 'D' 'B']\n",
      "  ['D' 'D' 'A' 'B' 'B']\n",
      "  ['B' 'D' 'D' 'E' 'B']]]\n"
     ]
    }
   ],
   "source": [
    "# your code here\n",
    "print(result)\n",
    "result2 = []\n",
    "for i in result:\n",
    "    if i==0:\n",
    "        result2.append('A')\n",
    "    elif i == 25:\n",
    "        result2.append('B')\n",
    "    elif i == 50:\n",
    "        result2.append('C')\n",
    "    elif i == 75:\n",
    "        result2.append('D')\n",
    "    elif i == 100:\n",
    "        result2.append('E')\n",
    "\n",
    "g = np.array(result2).reshape(2,3,5)\n",
    "print(g)"
   ]
  }
 ],
 "metadata": {
  "kernelspec": {
   "display_name": "Python 3",
   "language": "python",
   "name": "python3"
  },
  "language_info": {
   "codemirror_mode": {
    "name": "ipython",
    "version": 3
   },
   "file_extension": ".py",
   "mimetype": "text/x-python",
   "name": "python",
   "nbconvert_exporter": "python",
   "pygments_lexer": "ipython3",
   "version": "3.7.7"
  }
 },
 "nbformat": 4,
 "nbformat_minor": 2
}
